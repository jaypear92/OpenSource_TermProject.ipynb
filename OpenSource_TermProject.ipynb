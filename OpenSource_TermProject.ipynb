{
  "nbformat": 4,
  "nbformat_minor": 0,
  "metadata": {
    "colab": {
      "provenance": [],
      "authorship_tag": "ABX9TyMqmDU8Q0AA2itGttay2sx9",
      "include_colab_link": true
    },
    "kernelspec": {
      "name": "python3",
      "display_name": "Python 3"
    },
    "language_info": {
      "name": "python"
    }
  },
  "cells": [
    {
      "cell_type": "markdown",
      "metadata": {
        "id": "view-in-github",
        "colab_type": "text"
      },
      "source": [
        "<a href=\"https://colab.research.google.com/github/jaypear92/OpenSource_TermProject.ipynb/blob/main/OpenSource_TermProject.ipynb\" target=\"_parent\"><img src=\"https://colab.research.google.com/assets/colab-badge.svg\" alt=\"Open In Colab\"/></a>"
      ]
    },
    {
      "cell_type": "code",
      "source": [
        "import sqlite3"
      ],
      "metadata": {
        "id": "bE6hCgavcCo6"
      },
      "execution_count": 1,
      "outputs": []
    },
    {
      "cell_type": "code",
      "source": [
        "conn = sqlite3.connect('online_store.db')\n",
        "cursor = conn.cursor()"
      ],
      "metadata": {
        "id": "4MknzE_ec1C6"
      },
      "execution_count": 2,
      "outputs": []
    },
    {
      "cell_type": "code",
      "source": [
        "cursor.execute('''CREATE TABLE IF NOT EXISTS Products (\n",
        "                    id INTEGER PRIMARY KEY,\n",
        "                    name TEXT,\n",
        "                    price REAL,\n",
        "                    category TEXT)''')\n",
        "\n",
        "store_items = [\n",
        "    (1, \"Laptop\", 1000, \"Electronics\"),\n",
        "    (2, \"Smartphone\", 800, \"Electronics\"),\n",
        "    (3, \"T-shirt\", 20, \"Clothing\"),\n",
        "    (4, \"Jeans\", 50, \"Clothing\"),\n",
        "    (5, \"Headphones\", 100, \"Electronics\"),\n",
        "    (6, \"Sneakers\", 80, \"Clothing\"),\n",
        "    (7, \"Book\", 15, \"Books\"),\n",
        "    (8, \"Desk Lamp\", 30, \"Home & Office\"),\n",
        "    (9, \"Watch\", 150, \"Accessories\"),\n",
        "    (10, \"Backpack\", 40, \"Accessories\"),\n",
        "    (11, \"Tablet\", 300, \"Electronics\"),\n",
        "    (12, \"Dress\", 70, \"Clothing\"),\n",
        "    (13, \"Gaming Console\", 400, \"Electronics\"),\n",
        "    (14, \"Keyboard\", 50, \"Electronics\"),\n",
        "    (15, \"Mouse\", 20, \"Electronics\"),\n",
        "    (16, \"Sunglasses\", 25, \"Accessories\"),\n",
        "    (17, \"Hoodie\", 35, \"Clothing\"),\n",
        "    (18, \"Printer\", 200, \"Electronics\"),\n",
        "    (19, \"Speaker\", 80, \"Electronics\"),\n",
        "    (20, \"Camera\", 500, \"Electronics\"),\n",
        "    (21, \"Pants\", 45, \"Clothing\"),\n",
        "    (22, \"Ring\", 200, \"Accessories\"),\n",
        "    (23, \"Scanner\", 150, \"Electronics\"),\n",
        "    (24, \"Scarf\", 15, \"Clothing\"),\n",
        "    (25, \"Perfume\", 60, \"Accessories\")\n",
        "]\n",
        "\n",
        "cursor.executemany('INSERT INTO Products VALUES (?, ?, ?, ?)', store_items)\n",
        "\n",
        "conn.commit()\n",
        "conn.close()\n",
        "\n",
        "print(\"Database created successfully.\")"
      ],
      "metadata": {
        "colab": {
          "base_uri": "https://localhost:8080/"
        },
        "id": "UD1x5DAQc4Wc",
        "outputId": "4eb18e5a-0d49-4fc7-ce0e-a18b068acdad"
      },
      "execution_count": 3,
      "outputs": [
        {
          "output_type": "stream",
          "name": "stdout",
          "text": [
            "Database created successfully.\n"
          ]
        }
      ]
    },
    {
      "cell_type": "code",
      "execution_count": 10,
      "metadata": {
        "colab": {
          "base_uri": "https://localhost:8080/"
        },
        "id": "9EmXeA0VK1OZ",
        "outputId": "2fb21a00-8daf-4306-ba61-aeced307f5e0"
      },
      "outputs": [
        {
          "output_type": "stream",
          "name": "stdout",
          "text": [
            "Receipt:\n",
            "Laptop: $2000.00\n",
            "Smartphone: $4800.00\n",
            "Subtotal: $6800.00\n",
            "Tax (13%): $884.00\n",
            "Total: $7684.00\n"
          ]
        }
      ],
      "source": [
        "\n",
        "class Product:\n",
        "    def __init__(self, id, name, price, category):\n",
        "        self.id = id\n",
        "        self.name = name\n",
        "        self.price = price\n",
        "        self.category = category\n",
        "\n",
        "class OrderItem:\n",
        "    def __init__(self, product, quantity):\n",
        "        self.product = product\n",
        "        self.quantity = quantity\n",
        "\n",
        "    def subtotal(self):\n",
        "        subtotal = self.product.price * self.quantity\n",
        "        if self.quantity >= 10:\n",
        "            subtotal *= 0.95\n",
        "        return subtotal\n",
        "\n",
        "class Order:\n",
        "    def __init__(self):\n",
        "        self.items = []\n",
        "\n",
        "    def add_item(self, item):\n",
        "        self.items.append(item)\n",
        "\n",
        "    def subtotal(self):\n",
        "        return sum(item.subtotal() for item in self.items)\n",
        "\n",
        "    def total(self):\n",
        "        subtotal = self.subtotal()\n",
        "        if subtotal < 75:\n",
        "            subtotal += 9.99\n",
        "        total = subtotal * 1.13\n",
        "        return total\n",
        "\n",
        "    def generate_receipt(self):\n",
        "        receipt = \"Receipt:\\n\"\n",
        "        for item in self.items:\n",
        "            receipt += f\"{item.product.name}: ${item.subtotal():.2f}\\n\"\n",
        "        receipt += f\"Subtotal: ${self.subtotal():.2f}\\n\"\n",
        "        receipt += f\"Tax (13%): ${self.subtotal() * 0.13:.2f}\\n\"\n",
        "        receipt += f\"Total: ${self.total():.2f}\"\n",
        "        return receipt\n",
        "\n",
        "def get_product_details(product_id):\n",
        "    conn = sqlite3.connect('online_store.db')\n",
        "    cursor = conn.cursor()\n",
        "    cursor.execute(\"SELECT * FROM Products WHERE id=?\", (product_id,))\n",
        "    product_data = cursor.fetchone()\n",
        "    conn.close()\n",
        "    if product_data:\n",
        "        return Product(*product_data)\n",
        "    else:\n",
        "        return None\n",
        "\n",
        "\n"
      ]
    }
  ]
}