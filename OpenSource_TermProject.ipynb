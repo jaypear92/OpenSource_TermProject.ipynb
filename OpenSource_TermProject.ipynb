{
  "nbformat": 4,
  "nbformat_minor": 0,
  "metadata": {
    "colab": {
      "provenance": [],
      "authorship_tag": "ABX9TyOnh2bZlAuKcTAZkLqXOuoq",
      "include_colab_link": true
    },
    "kernelspec": {
      "name": "python3",
      "display_name": "Python 3"
    },
    "language_info": {
      "name": "python"
    }
  },
  "cells": [
    {
      "cell_type": "markdown",
      "metadata": {
        "id": "view-in-github",
        "colab_type": "text"
      },
      "source": [
        "<a href=\"https://colab.research.google.com/github/jaypear92/OpenSource_TermProject.ipynb/blob/main/OpenSource_TermProject.ipynb\" target=\"_parent\"><img src=\"https://colab.research.google.com/assets/colab-badge.svg\" alt=\"Open In Colab\"/></a>"
      ]
    },
    {
      "cell_type": "code",
      "source": [
        "import sqlite3"
      ],
      "metadata": {
        "id": "bE6hCgavcCo6"
      },
      "execution_count": 1,
      "outputs": []
    },
    {
      "cell_type": "code",
      "source": [
        "conn = sqlite3.connect('online_store.db')\n",
        "cursor = conn.cursor()"
      ],
      "metadata": {
        "id": "4MknzE_ec1C6"
      },
      "execution_count": 2,
      "outputs": []
    },
    {
      "cell_type": "code",
      "source": [
        "cursor.execute('''CREATE TABLE IF NOT EXISTS Products (\n",
        "                    id INTEGER PRIMARY KEY,\n",
        "                    name TEXT,\n",
        "                    price REAL,\n",
        "                    category TEXT)''')\n",
        "\n",
        "store_items = [\n",
        "    (1, \"Laptop\", 1000, \"Electronics\"),\n",
        "    (2, \"Smartphone\", 800, \"Electronics\"),\n",
        "    (3, \"T-shirt\", 20, \"Clothing\"),\n",
        "    (4, \"Jeans\", 50, \"Clothing\"),\n",
        "    (5, \"Headphones\", 100, \"Electronics\"),\n",
        "    (6, \"Sneakers\", 80, \"Clothing\"),\n",
        "    (7, \"Book\", 15, \"Books\"),\n",
        "    (8, \"Desk Lamp\", 30, \"Home & Office\"),\n",
        "    (9, \"Watch\", 150, \"Accessories\"),\n",
        "    (10, \"Backpack\", 40, \"Accessories\"),\n",
        "    (11, \"Tablet\", 300, \"Electronics\"),\n",
        "    (12, \"Dress\", 70, \"Clothing\"),\n",
        "    (13, \"Gaming Console\", 400, \"Electronics\"),\n",
        "    (14, \"Keyboard\", 50, \"Electronics\"),\n",
        "    (15, \"Mouse\", 20, \"Electronics\"),\n",
        "    (16, \"Sunglasses\", 25, \"Accessories\"),\n",
        "    (17, \"Hoodie\", 35, \"Clothing\"),\n",
        "    (18, \"Printer\", 200, \"Electronics\"),\n",
        "    (19, \"Speaker\", 80, \"Electronics\"),\n",
        "    (20, \"Camera\", 500, \"Electronics\"),\n",
        "    (21, \"Pants\", 45, \"Clothing\"),\n",
        "    (22, \"Ring\", 200, \"Accessories\"),\n",
        "    (23, \"Scanner\", 150, \"Electronics\"),\n",
        "    (24, \"Scarf\", 15, \"Clothing\"),\n",
        "    (25, \"Perfume\", 60, \"Accessories\")\n",
        "]\n",
        "\n",
        "cursor.executemany('INSERT INTO Products VALUES (?, ?, ?, ?)', store_items)\n",
        "\n",
        "conn.commit()\n",
        "conn.close()\n",
        "\n",
        "print(\"Database created successfully.\")"
      ],
      "metadata": {
        "colab": {
          "base_uri": "https://localhost:8080/"
        },
        "id": "UD1x5DAQc4Wc",
        "outputId": "4eb18e5a-0d49-4fc7-ce0e-a18b068acdad"
      },
      "execution_count": 3,
      "outputs": [
        {
          "output_type": "stream",
          "name": "stdout",
          "text": [
            "Database created successfully.\n"
          ]
        }
      ]
    }
  ]
}